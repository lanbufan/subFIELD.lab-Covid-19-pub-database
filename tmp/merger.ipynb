{
 "cells": [
  {
   "cell_type": "code",
   "execution_count": 46,
   "metadata": {},
   "outputs": [],
   "source": [
    "# DEPENDENCIES\n",
    "import json\n",
    "import pandas as pd\n",
    "\n",
    "from pathlib import Path\n",
    "from pandas.io.json import json_normalize\n",
    "\n",
    "# CONSTANTS\n",
    "DATA = Path.cwd().parent / 'data'\n",
    "ZIPFILES = DATA / 'zipfiles'\n",
    "LITCOVID = DATA / 'litcovid'\n",
    "RAW = 'Link_Cov_P_database_2020_04_%d__9233.zip'\n",
    "CLEAN = 'Link_Cov_P_database_2020_04_%d__6381.zip'\n",
    "\n",
    "# FUNCTIONS\n",
    "def crossref(data):\n",
    "    for element in data:\n",
    "        xref = element['xref']\n",
    "        if isinstance(xref, str):\n",
    "            continue\n",
    "\n",
    "        yield xref['message']"
   ]
  },
  {
   "cell_type": "code",
   "execution_count": 47,
   "metadata": {},
   "outputs": [],
   "source": [
    "current_raw = pd.read_csv(ZIPFILES / (RAW % 11), compression = 'zip')\n",
    "\n",
    "with (LITCOVID / 'litcovid.json').open('r') as f:\n",
    "    xref = json_normalize(crossref(json.load(f)))"
   ]
  },
  {
   "cell_type": "markdown",
   "metadata": {},
   "source": [
    "# Adding `id_master` missing values"
   ]
  },
  {
   "cell_type": "code",
   "execution_count": 49,
   "metadata": {},
   "outputs": [],
   "source": [
    "ids = range(1, current_raw['id_master_1'].size + 1)\n",
    "\n",
    "current_raw['id_master_1'] = ids\n",
    "current_raw['id_master_2'] = ids"
   ]
  },
  {
   "cell_type": "markdown",
   "metadata": {},
   "source": [
    "# Processing Crossref data"
   ]
  },
  {
   "cell_type": "code",
   "execution_count": 50,
   "metadata": {},
   "outputs": [],
   "source": [
    "# Lowering column names\n",
    "xref.columns = xref.columns.str.lower()\n",
    "\n",
    "# Desired columns for merging\n",
    "columns = ['doi', 'publisher', 'link', 'deposited.date-time', 'issn', 'reference']\n",
    "renaming = ['xpublisher', 'xlink', 'xdeposited.date-time', 'xissn', 'xreference']\n",
    "\n",
    "# Prefixing Crossref columns with `x`\n",
    "xref = xref[columns].rename(columns = dict(zip(columns[1:], renaming)))"
   ]
  },
  {
   "cell_type": "markdown",
   "metadata": {},
   "source": [
    "# Merging"
   ]
  },
  {
   "cell_type": "code",
   "execution_count": 51,
   "metadata": {},
   "outputs": [],
   "source": [
    "# Getting LitCovid rows\n",
    "litcovid = current_raw[current_raw['id_lit'].notna()]"
   ]
  },
  {
   "cell_type": "code",
   "execution_count": 52,
   "metadata": {},
   "outputs": [
    {
     "data": {
      "text/plain": [
       "(1207, 185)"
      ]
     },
     "execution_count": 52,
     "metadata": {},
     "output_type": "execute_result"
    }
   ],
   "source": [
    "merged = pd.merge(litcovid, xref, how = 'inner', on = 'doi')\n",
    "merged.shape"
   ]
  },
  {
   "cell_type": "code",
   "execution_count": 53,
   "metadata": {},
   "outputs": [
    {
     "data": {
      "text/plain": [
       "(9236, 185)"
      ]
     },
     "execution_count": 53,
     "metadata": {},
     "output_type": "execute_result"
    }
   ],
   "source": [
    "new_raw = pd.merge(current_raw, xref, how = 'left', on = 'doi')\n",
    "new_raw.shape"
   ]
  },
  {
   "cell_type": "code",
   "execution_count": 54,
   "metadata": {},
   "outputs": [
    {
     "data": {
      "text/plain": [
       "1309"
      ]
     },
     "execution_count": 54,
     "metadata": {},
     "output_type": "execute_result"
    }
   ],
   "source": [
    "new_raw['has_xref'] = new_raw['xpublisher'].notna()\n",
    "new_raw['has_xref'].sum()"
   ]
  },
  {
   "cell_type": "markdown",
   "metadata": {},
   "source": [
    "# Saving new raw file"
   ]
  },
  {
   "cell_type": "code",
   "execution_count": 55,
   "metadata": {},
   "outputs": [],
   "source": [
    "new_raw.to_csv(ZIPFILES / (RAW % 12), compression = 'gzip')"
   ]
  },
  {
   "cell_type": "markdown",
   "metadata": {},
   "source": [
    "# Saving new clean"
   ]
  },
  {
   "cell_type": "code",
   "execution_count": 56,
   "metadata": {},
   "outputs": [],
   "source": [
    "new_raw[new_raw['current_version']].to_csv(ZIPFILES / (CLEAN % 12), compression = 'gzip')"
   ]
  }
 ],
 "metadata": {
  "kernelspec": {
   "display_name": "Python 3",
   "language": "python",
   "name": "python3"
  },
  "language_info": {
   "codemirror_mode": {
    "name": "ipython",
    "version": 3
   },
   "file_extension": ".py",
   "mimetype": "text/x-python",
   "name": "python",
   "nbconvert_exporter": "python",
   "pygments_lexer": "ipython3",
   "version": "3.7.6"
  },
  "toc": {
   "base_numbering": 1,
   "nav_menu": {},
   "number_sections": true,
   "sideBar": true,
   "skip_h1_title": false,
   "title_cell": "Table of Contents",
   "title_sidebar": "Contents",
   "toc_cell": false,
   "toc_position": {},
   "toc_section_display": true,
   "toc_window_display": false
  }
 },
 "nbformat": 4,
 "nbformat_minor": 2
}
